{
 "cells": [
  {
   "cell_type": "markdown",
   "metadata": {},
   "source": [
    "# Regular expression\n",
    "* in comuting a regular expression,also referred to as \"regex\",or\"regexp\"\n",
    "* provide a concise and flexible means for matching strings of text,such as particular character, words,or patterns of characters\n",
    "* a regular experession is written in a formal language that can be interpreted by a regular experrision processor\n",
    "* really clever \"wild\"expression for matching and parsing string"
   ]
  },
  {
   "cell_type": "markdown",
   "metadata": {},
   "source": [
    "# packages\n",
    "\n",
    "* In programming, a module is a piece of software that has a specific functionality\n",
    "* For example, when building a ping pong game, one module would be responsible for the game logic, and\n",
    "another module would be responsible for drawing the game on the screen. \n",
    "* Each module is a different file, which can be edited separately."
   ]
  },
  {
   "cell_type": "markdown",
   "metadata": {},
   "source": [
    "# Modules\n",
    "* module allows you to logically organize your python code\n",
    "* grouping related code into a module makes the code easier to understand and use\n",
    "* simply,a module is a file consisting of python code\n",
    "* a moudle can define functions,classes and variables\n",
    "* a module can also include runnable code\n"
   ]
  },
  {
   "cell_type": "code",
   "execution_count": null,
   "metadata": {},
   "outputs": [],
   "source": [
    "import re\n",
    "s=\"NsritStudents\"\n",
    "re.findall('s',s)"
   ]
  },
  {
   "cell_type": "code",
   "execution_count": null,
   "metadata": {},
   "outputs": [],
   "source": [
    "import re\n",
    "s=\"NsritStudents\"\n",
    "if re.match('s',s):\n",
    "    print(\"true\")\n",
    "else:\n",
    "    print(\"false\")"
   ]
  },
  {
   "cell_type": "code",
   "execution_count": null,
   "metadata": {},
   "outputs": [],
   "source": [
    "import re\n",
    "s=\"NsritStudents\"\n",
    "re.search('s',s)"
   ]
  },
  {
   "cell_type": "code",
   "execution_count": null,
   "metadata": {},
   "outputs": [],
   "source": [
    "import re\n",
    "s1=\"Nsrit Student s\"\n",
    "print(re.findall(\"\\s\",s1))\n",
    "#    print(\"match\")\n",
    "#else:\n",
    "#    print(\"not match\")"
   ]
  },
  {
   "cell_type": "code",
   "execution_count": null,
   "metadata": {},
   "outputs": [],
   "source": [
    "#\\s\n",
    "import re\n",
    "s=\"Nsrit Student\"\n",
    "if re.findall(\"\\s\",s):\n",
    "    print(re.findall(\"\\s\",s))\n",
    "else:\n",
    "    print(\" no space\")\n",
    "if re.findall(\"\\s\",s):\n",
    "    print(re.findall(\"\\S\",s))\n",
    "else:\n",
    "    print(\" no space\")  \n",
    "#^\n",
    "if re.findall(\"^N\",s):\n",
    "    print(\"matched\")\n",
    "else:\n",
    "    print(\"not matched\")\n",
    "#$\n",
    "if re.findall(\"t$\",s):\n",
    "    print(\"matched\")\n",
    "else:\n",
    "    print(\"not matched\")\n",
    "#.\n",
    "if re.findall(\"Studen.$\",s):\n",
    "    print(\"matched\")\n",
    "else:\n",
    "    print(\"not matched\")\n",
    "  "
   ]
  },
  {
   "cell_type": "code",
   "execution_count": null,
   "metadata": {},
   "outputs": [],
   "source": [
    "import re\n",
    "s1=\"Nsrit Student s\"\n",
    "if re.match(\"[A-Z]\",s1):\n",
    "    print(\"match\")\n",
    "else:\n",
    "    print(\"not match\")\n",
    "    #*\n",
    "if re.match(\"Nsr.*\",s1):\n",
    "    print(\"match\")\n",
    "else:\n",
    "    print(\"not match\")\n",
    "    #+ \n",
    "if re.match(\"Nsri.+$\",s1):\n",
    "    print(\"match\")\n",
    "else:\n",
    "    print(\"not match\")\n",
    "    \n",
    "if re.match(\"^[A,N,O]\",s1):\n",
    "    print(\"match\")\n",
    "else:\n",
    "    print(\"not match\")    "
   ]
  },
  {
   "cell_type": "code",
   "execution_count": null,
   "metadata": {},
   "outputs": [],
   "source": [
    "import re\n",
    "n=input()\n",
    "if re.match(\"^[6-9][0-9]{9}\",n):\n",
    "    print(\"patteren matched\")\n",
    "else:\n",
    "    print (\"not matched\")"
   ]
  },
  {
   "cell_type": "code",
   "execution_count": null,
   "metadata": {},
   "outputs": [],
   "source": [
    "import re\n",
    "\n",
    "def PNV(number):\n",
    "    patteren = '^[6-9][0-9]{9}$|^[0][6-9][0-9]{9}$|^[+][9][1][6-9][0-9]{9}$'\n",
    "    if re.match(patteren,str(number)):\n",
    "        return True\n",
    "    return False\n",
    "PNV(input())"
   ]
  },
  {
   "cell_type": "code",
   "execution_count": null,
   "metadata": {},
   "outputs": [],
   "source": [
    "import re\n",
    "n1 = input (\"enter your mail id:\")\n",
    "if re.match(\"[a-z0-9][a-z0-9_.]{3,16}[@][a-z0-9]{3,7}[.][a-z]{2,5}\",n1):\n",
    "    print(\"match\")\n",
    "else:\n",
    "    print(\"not match\")"
   ]
  },
  {
   "cell_type": "code",
   "execution_count": null,
   "metadata": {},
   "outputs": [],
   "source": [
    "f= open(\"cse.txt\",\"w\")\n",
    "f.write(\"update the data\")\n",
    "f.close()"
   ]
  },
  {
   "cell_type": "code",
   "execution_count": null,
   "metadata": {},
   "outputs": [],
   "source": [
    "f= open(\"cse.txt\",\"r\")\n",
    "print(f.read())\n",
    "f.close()"
   ]
  },
  {
   "cell_type": "code",
   "execution_count": null,
   "metadata": {},
   "outputs": [],
   "source": [
    "f=open(\"cse.txt\",\"r\")\n",
    "print(f.readlines(1))\n",
    "f.close()"
   ]
  },
  {
   "cell_type": "code",
   "execution_count": 6,
   "metadata": {
    "collapsed": true
   },
   "outputs": [
    {
     "ename": "IndentationError",
     "evalue": "expected an indented block (<ipython-input-6-cc048f8649f2>, line 5)",
     "output_type": "error",
     "traceback": [
      "\u001b[1;36m  File \u001b[1;32m\"<ipython-input-6-cc048f8649f2>\"\u001b[1;36m, line \u001b[1;32m5\u001b[0m\n\u001b[1;33m    if i.isdigit():\u001b[0m\n\u001b[1;37m     ^\u001b[0m\n\u001b[1;31mIndentationError\u001b[0m\u001b[1;31m:\u001b[0m expected an indented block\n"
     ]
    }
   ],
   "source": [
    "li1=[]\n",
    "with open (\"cse.txt\",'r') as f:\n",
    "    #f.read()\n",
    "    for i in f.read():\n",
    "    if i.isdigit():\n",
    "            li1.append(i)\n",
    "            li1.sort()\n",
    "#with open(\"cse1.txt\",'w') as f:\n",
    "#f.write('')\n",
    "for i in li1:\n",
    "    with open('cse1.txt','a') as f:\n",
    "        i=str(i)\n",
    "        f.write(i+'\\n')"
   ]
  },
  {
   "cell_type": "code",
   "execution_count": null,
   "metadata": {},
   "outputs": [],
   "source": []
  }
 ],
 "metadata": {
  "kernelspec": {
   "display_name": "Python 3",
   "language": "python",
   "name": "python3"
  },
  "language_info": {
   "codemirror_mode": {
    "name": "ipython",
    "version": 3
   },
   "file_extension": ".py",
   "mimetype": "text/x-python",
   "name": "python",
   "nbconvert_exporter": "python",
   "pygments_lexer": "ipython3",
   "version": "3.7.4"
  }
 },
 "nbformat": 4,
 "nbformat_minor": 2
}
